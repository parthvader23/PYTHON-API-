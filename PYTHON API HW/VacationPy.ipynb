{
 "cells": [
  {
   "cell_type": "markdown",
   "metadata": {},
   "source": [
    "# VacationPy\n",
    "----\n",
    "\n",
    "#### Note\n",
    "* Keep an eye on your API usage. Use https://developers.google.com/maps/reporting/gmp-reporting as reference for how to monitor your usage and billing.\n",
    "\n",
    "* Instructions have been included for each segment. You do not have to follow them exactly, but they are included to help you think through the steps."
   ]
  },
  {
   "cell_type": "code",
   "execution_count": null,
   "metadata": {},
   "outputs": [],
   "source": [
    "# Dependencies and Setup\n",
    "import matplotlib.pyplot as plt\n",
    "import pandas as pd\n",
    "import numpy as np\n",
    "import requests\n",
    "import gmaps\n",
    "import os\n",
    "\n",
    "# Import API key\n",
    "from api_keys import g_key"
   ]
  },
  {
   "cell_type": "markdown",
   "metadata": {},
   "source": [
    "### Store Part I results into DataFrame\n",
    "* Load the csv exported in Part I to a DataFrame"
   ]
  },
  {
   "cell_type": "code",
   "execution_count": null,
   "metadata": {},
   "outputs": [],
   "source": [
    "weather_data_to_load = \"../WeatherPy/weather_df_csv\"\n",
    "weather_data = pd.read_csv(weather_data_to_load)\n",
    "dropna_weather_data = weather_data.dropna()\n",
    "del dropna_weather_data[\"Unnamed: 0\"]\n",
    "dropna_weather_data.head()"
   ]
  },
  {
   "cell_type": "markdown",
   "metadata": {},
   "source": [
    "### Humidity Heatmap\n",
    "* Configure gmaps.\n",
    "* Use the Lat and Lng as locations and Humidity as the weight.\n",
    "* Add Heatmap layer to map."
   ]
  },
  {
   "cell_type": "code",
   "execution_count": null,
   "metadata": {},
   "outputs": [],
   "source": [
    "# google maps\n",
    "gmaps.configure(api_key=g_key)\n",
    "\n",
    "# weight and location\n",
    "locations = dropna_weather_data[[\"Lat.\", \"Lon.\"]]\n",
    "humidity = dropna_weather_data[\"Humidity\"].astype(float)\n",
    "\n",
    "\n",
    "\n",
    "\n",
    "\n",
    "# heatmap\n",
    "fig = gmaps.figure()\n",
    "\n",
    "# heat layer\n",
    "heat_layer = gmaps.heatmap_layer(locations, weights=humidity, dissipating=False, max_intensity=100, point_radius=2)\n",
    "fig.add_layer(heat_layer)\n",
    "fig"
   ]
  },
  {
   "cell_type": "code",
   "execution_count": null,
   "metadata": {},
   "outputs": [],
   "source": []
  },
  {
   "cell_type": "markdown",
   "metadata": {},
   "source": [
    "### Create new DataFrame fitting weather criteria\n",
    "* Narrow down the cities to fit weather conditions.\n",
    "* Drop any rows will null values."
   ]
  },
  {
   "cell_type": "code",
   "execution_count": null,
   "metadata": {},
   "outputs": [],
   "source": [
    "# zero cloudiness\n",
    "vacation_no_cloud = dropna_weather_data[dropna_weather_data[\"Cloudiness\"] == 0]\n",
    "# max temp above 70 degrees F\n",
    "vacation_above_70 = vacation_no_cloud[vacation_no_cloud[\"Max Temp.\"] > 70]\n",
    "# max temp below 80 degrees F\n",
    "vacation_below_80 = vacation_above_70[vacation_above_70[\"Max Temp.\"] < 80]\n",
    "# wind speed below 10 mph\n",
    "vacation_low_winds = vacation_below_80[vacation_below_80[\"Wind Speed\"] < 10]\n",
    "# humidity below 60 %\n",
    "best_vacation = vacation_low_winds[vacation_low_winds[\"Humidity\"] < 60]\n",
    "# Set Index\n",
    "indexed_best_vacation = best_vacation.reset_index()\n",
    "del indexed_best_vacation[\"index\"]\n",
    "indexed_best_vacation"
   ]
  },
  {
   "cell_type": "code",
   "execution_count": null,
   "metadata": {},
   "outputs": [],
   "source": [
    "vaca_locations = indexed_best_vacation[[\"Lat.\", \"Lon.\"]]\n",
    "\n",
    "vaca_humidity = indexed_best_vacation[\"Humidity\"].astype(float)"
   ]
  },
  {
   "cell_type": "code",
   "execution_count": null,
   "metadata": {},
   "outputs": [],
   "source": [
    "# Heatmap\n",
    "vaca_fig = gmaps.figure()\n",
    "\n",
    "# Heat layer\n",
    "vaca_heat_layer = gmaps.heatmap_layer(vaca_locations, weights=vaca_humidity, dissipating=False, max_intensity=50, point_radius=2.5)\n",
    "vaca_fig.add_layer(vaca_heat_layer)\n",
    "vaca_fig"
   ]
  },
  {
   "cell_type": "markdown",
   "metadata": {},
   "source": [
    "### Hotel Map\n",
    "* Store into variable named `hotel_df`.\n",
    "* Add a \"Hotel Name\" column to the DataFrame.\n",
    "* Set parameters to search for hotels with 5000 meters.\n",
    "* Hit the Google Places API for each city's coordinates.\n",
    "* Store the first Hotel result into the DataFrame.\n",
    "* Plot markers on top of the heatmap."
   ]
  },
  {
   "cell_type": "code",
   "execution_count": null,
   "metadata": {},
   "outputs": [],
   "source": [
    "Hotels = []\n",
    "\n",
    "for city in range(len(indexed_best_vacation[\"City\"])):\n",
    "\n",
    "    lat = indexed_best_vacation.loc[city][\"Lat.\"]\n",
    "    lng = indexed_best_vacation.loc[city][\"Lon.\"]\n",
    "\n",
    "    city_coords = f\"{lat},{lng}\"\n",
    "\n",
    "    params = {\n",
    "        \"location\": city_coords, \n",
    "        \"types\": \"lodging\",\n",
    "        \"radius\": 5000,\n",
    "        \"key\": g_key\n",
    "    }\n",
    "\n",
    "    base_url = \"https://maps.googleapis.com/maps/api/place/nearbysearch/json\"   \n",
    "\n",
    "    hotel_request = requests.get(base_url, params=params)\n",
    "    hotel_response = hotel_request.json()\n",
    "\n",
    "    try:\n",
    "        hotels.append(hotel_response[\"results\"][0][\"name\"])\n",
    "    except:\n",
    "        hotels.append(\"nearest hotel not found\")\n",
    "\n",
    "# Dataframe with nearest hotel\n",
    "indexed_best_vacation[\"Nearest Hotel\"] = hotels\n",
    "indexed_best_vacation"
   ]
  },
  {
   "cell_type": "code",
   "execution_count": null,
   "metadata": {},
   "outputs": [],
   "source": []
  },
  {
   "cell_type": "code",
   "execution_count": null,
   "metadata": {},
   "outputs": [],
   "source": [
    "# NOTE: Do not change any of the code in this cell\n",
    "\n",
    "# Using the template add the hotel marks to the heatmap\n",
    "info_box_template = \"\"\"\n",
    "<dl>\n",
    "<dt>Name</dt><dd>{Hotel Name}</dd>\n",
    "<dt>City</dt><dd>{City}</dd>\n",
    "<dt>Country</dt><dd>{Country}</dd>\n",
    "</dl>\n",
    "\"\"\"\n",
    "# Store the DataFrame Row\n",
    "# NOTE: be sure to update with your DataFrame name\n",
    "hotel_info = [info_box_template.format(**row) for index, row in hotel_df.iterrows()]\n",
    "locations = hotel_df[[\"Lat\", \"Lng\"]]"
   ]
  },
  {
   "cell_type": "code",
   "execution_count": null,
   "metadata": {},
   "outputs": [],
   "source": [
    "# Add marker layer ontop of heat map\n",
    "\n",
    "\n",
    "# Display figure\n"
   ]
  },
  {
   "cell_type": "code",
   "execution_count": null,
   "metadata": {},
   "outputs": [],
   "source": []
  }
 ],
 "metadata": {
  "kernelspec": {
   "display_name": "Python 3",
   "language": "python",
   "name": "python3"
  },
  "language_info": {
   "codemirror_mode": {
    "name": "ipython",
    "version": 3
   },
   "file_extension": ".py",
   "mimetype": "text/x-python",
   "name": "python",
   "nbconvert_exporter": "python",
   "pygments_lexer": "ipython3",
   "version": "3.8.5"
  },
  "latex_envs": {
   "LaTeX_envs_menu_present": true,
   "autoclose": false,
   "autocomplete": true,
   "bibliofile": "biblio.bib",
   "cite_by": "apalike",
   "current_citInitial": 1,
   "eqLabelWithNumbers": true,
   "eqNumInitial": 1,
   "hotkeys": {
    "equation": "Ctrl-E",
    "itemize": "Ctrl-I"
   },
   "labels_anchors": false,
   "latex_user_defs": false,
   "report_style_numbering": false,
   "user_envs_cfg": false
  }
 },
 "nbformat": 4,
 "nbformat_minor": 4
}
